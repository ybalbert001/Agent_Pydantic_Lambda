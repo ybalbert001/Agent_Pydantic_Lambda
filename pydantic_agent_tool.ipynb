{
 "cells": [
  {
   "cell_type": "markdown",
   "id": "0fc501ef-e24a-4568-b85b-a7730e51b222",
   "metadata": {},
   "source": [
    "# 如何构建一个基于Lambda的Query Agent Tool"
   ]
  },
  {
   "cell_type": "code",
   "execution_count": null,
   "id": "2f170498-cbd5-4a1d-9477-478a7d9e725a",
   "metadata": {
    "tags": []
   },
   "outputs": [],
   "source": [
    "!pip install awscli\n",
    "!pip install sqlalchemy pymysql pydantic pandas"
   ]
  },
  {
   "cell_type": "markdown",
   "id": "0e5e978f-d6e0-4412-9b28-3e6b104bd948",
   "metadata": {},
   "source": [
    "### 0. 测试pydantic框架带来的接口报错机制"
   ]
  },
  {
   "cell_type": "code",
   "execution_count": null,
   "id": "a743aa64-24dd-4d7f-9c8b-b05806a801a7",
   "metadata": {
    "tags": []
   },
   "outputs": [],
   "source": [
    "from pydantic import BaseModel, validator, ValidationError\n",
    "from typing import Optional\n",
    "\n",
    "class Employee_Pydantic(BaseModel):\n",
    "    employee: Optional[str] = None\n",
    "    role: Optional[str] = None\n",
    "    domain: Optional[str] = None\n",
    "    scope: Optional[str] = None\n",
    "\n",
    "    @validator('role')\n",
    "    def role_check(cls, v):\n",
    "        allowed_role = ['SS', 'SSA', 'GTMS', 'PM', 'TPM', 'Manager']\n",
    "        allowed_role_lowercase = [ item.lower() for item in allowed_role]\n",
    "        allowed_role_str = \", \".join(allowed_role)\n",
    "        if v not in allowed_role_lowercase:\n",
    "            raise ValueError(f\"role should be in [{allowed_role_str}]\")\n",
    "        return v\n",
    "    \n",
    "    @validator('domain')\n",
    "    def domain_check(cls, v):\n",
    "        allowed_domain = ['leadership_team', 'AIML', 'Analytics', 'AppMod', 'Cloud_Intelligence', 'Cloud_Economics', 'Compute',\n",
    " 'Connect_SES_Pinpoint','Database','HPC','Hybrid','IoT','Networking','Edge','Security','By_Services','By_Account_teams','Service Launch']\n",
    "        allowed_domain_lowercase = [ item.lower() for item in allowed_domain]\n",
    "        allowed_domain_str = \", \".join(allowed_domain)\n",
    "        if v not in allowed_domain_lowercase:\n",
    "            raise ValueError(f\"domain should be in [{allowed_domain_str}]\")\n",
    "        return v\n",
    "\n",
    "obj = {\n",
    "    \"domain\" : \"EC2\",\n",
    "    \"scope\" : \"north\"\n",
    "}\n",
    "\n",
    "try:\n",
    "    gtms_obj = Employee_Pydantic(**obj)\n",
    "except ValidationError as e:\n",
    "    print(e.json())\n"
   ]
  },
  {
   "cell_type": "markdown",
   "id": "406c7cdc-47df-4790-a5c8-5bae46b4cb9a",
   "metadata": {},
   "source": [
    "### 1.创建一个RDS Database"
   ]
  },
  {
   "cell_type": "markdown",
   "id": "b1fe2428-98ae-4270-95d0-88ae68eaaa69",
   "metadata": {},
   "source": [
    "#### 1.1 设定变量\n",
    "- 前5个变量可以自行设定\n"
   ]
  },
  {
   "cell_type": "code",
   "execution_count": null,
   "id": "f6f2d195-9508-4967-9fb1-875393a44600",
   "metadata": {
    "tags": []
   },
   "outputs": [],
   "source": [
    "db_subnet_group_name = \"<db_subnet_group_name>\" #agent_db_group\n",
    "db_username = \"<db_username>\"                   #db_username\n",
    "db_password = \"<db_password>\"                   #db_password\n",
    "db_instance_name = \"<db_instance_name>\"         #agent-db-instance"
   ]
  },
  {
   "cell_type": "markdown",
   "id": "37e86d77-2d9d-4e8b-a652-b12bc367435a",
   "metadata": {},
   "source": [
    "- 后4个变量通过命令行查询获取\n",
    "  + vpc-security-group-ids 需要指定为chatbot部署以及本notebook所在的vpc为同一个"
   ]
  },
  {
   "cell_type": "code",
   "execution_count": null,
   "id": "f463baa9-0f6a-4f98-aac2-5435b1674a55",
   "metadata": {
    "tags": []
   },
   "outputs": [],
   "source": [
    "#查询vpc\n",
    "!aws ec2 describe-vpcs"
   ]
  },
  {
   "cell_type": "code",
   "execution_count": null,
   "id": "bd2b8ecd-d583-4a51-b3d5-bc3c0dd69c63",
   "metadata": {
    "tags": []
   },
   "outputs": [],
   "source": [
    "#查询security-groups-id\n",
    "!aws ec2 describe-security-groups --filters Name=vpc-id,Values=\"vpc-028348b7d6f8e5199\""
   ]
  },
  {
   "cell_type": "code",
   "execution_count": null,
   "id": "d901f8d0-548d-4507-8efb-4b3299ab3f60",
   "metadata": {
    "tags": []
   },
   "outputs": [],
   "source": [
    "#查询vpc对应的subnets\n",
    "!aws ec2 describe-subnets --filters \"Name=vpc-id,Values=vpc-028348b7d6f8e5199\""
   ]
  },
  {
   "cell_type": "code",
   "execution_count": null,
   "id": "b614a8e5-1969-4b00-9041-41ea3b8147e6",
   "metadata": {
    "tags": []
   },
   "outputs": [],
   "source": [
    "region = 'us-west-2'\n",
    "db_az = 'us-west-2a'\n",
    "vpc = \"vpc-028348b7d6f8e5199\"\n",
    "subnet_ids = [\"subnet-0d254a6652394515e\", \"subnet-0e3f33a74058eb579\", \"subnet-0ab03f3114be6a839\", \"subnet-0ff371bfd8bb73577\"]\n",
    "vpc_security_group_ids = \"sg-05bb8f06a6f240879\""
   ]
  },
  {
   "cell_type": "markdown",
   "id": "588c1e0a-07b7-4219-b56e-a1883c40f05e",
   "metadata": {},
   "source": [
    "#### 1.2 创建DB instance\n",
    "- db-subnet-group-name 可以通过下面awscli进行创建"
   ]
  },
  {
   "cell_type": "code",
   "execution_count": null,
   "id": "b2c74ba8-064e-4a70-b721-e791df9ed292",
   "metadata": {
    "tags": []
   },
   "outputs": [],
   "source": [
    "!aws rds create-db-subnet-group \\\n",
    "    --db-subnet-group-name {db_subnet_group_name} \\\n",
    "    --db-subnet-group-description \"DB Subnet Group For Agent\" \\\n",
    "    --subnet-ids {\" \".join(subnet_ids)}"
   ]
  },
  {
   "cell_type": "markdown",
   "id": "a971f209-6538-4d67-b5f0-645460cfd42e",
   "metadata": {},
   "source": [
    "- 创建db-instance"
   ]
  },
  {
   "cell_type": "code",
   "execution_count": null,
   "id": "c43203b9-cd48-46fd-ba29-9f292cf033d4",
   "metadata": {
    "tags": []
   },
   "outputs": [],
   "source": [
    "!aws rds create-db-instance \\\n",
    "    --db-instance-identifier {db_instance_name} \\\n",
    "    --allocated-storage 50 \\\n",
    "    --db-instance-class db.r6g.large \\\n",
    "    --engine mysql \\\n",
    "    --master-username {db_username} \\\n",
    "    --master-user-password {db_password} \\\n",
    "    --vpc-security-group-ids {vpc_security_group_ids} \\\n",
    "    --availability-zone {db_az} \\\n",
    "    --db-subnet-group-name {db_subnet_group_name}"
   ]
  },
  {
   "cell_type": "markdown",
   "id": "33cc0be2-bbb1-44b9-9da1-7a2692226a39",
   "metadata": {},
   "source": [
    "### 2. 创建表并注入数据"
   ]
  },
  {
   "cell_type": "markdown",
   "id": "9359298a-f910-4794-b105-a757063035e1",
   "metadata": {},
   "source": [
    "#### 2.1 连接数据库，并注入数据（数据为data.csv的本地文件）\n",
    "- 创建数据库后，需等待DB创建完毕，然后获取db_host，db_port\n",
    "- 自行指定db_name，db_table_name"
   ]
  },
  {
   "cell_type": "code",
   "execution_count": null,
   "id": "ce046a1d-1d1f-4819-bae1-115b98a1f689",
   "metadata": {
    "tags": []
   },
   "outputs": [],
   "source": [
    "db_host = \"<db_host>\"\n",
    "db_port = \"<db_port>\"\n",
    "db_name = \"simple_info_db\"\n",
    "db_table_name = 'employee'\n",
    "local_data_csv = 'data.csv'"
   ]
  },
  {
   "cell_type": "code",
   "execution_count": null,
   "id": "2c400163-e13b-4da7-b054-ce1f176ebbcd",
   "metadata": {
    "tags": []
   },
   "outputs": [],
   "source": [
    "from sqlalchemy import create_engine, text, Column, Integer, String, MetaData, Table, Sequence, or_, and_\n",
    "from sqlalchemy.ext.declarative import declarative_base\n",
    "from sqlalchemy.orm import Session\n",
    "import pandas as pd\n",
    "\n",
    "connection_string = f\"mysql+pymysql://{db_username}:{db_password}@{db_host}:{db_port}\"\n",
    "engine = create_engine(connection_string)\n",
    "\n",
    "with engine.connect() as connection:\n",
    "    result = connection.execute(text(f\"CREATE DATABASE IF NOT EXISTS {db_name}\"))\n",
    "    \n",
    "new_db_connection_string = f\"mysql+pymysql://{db_username}:{db_password}@{db_host}:{db_port}/{db_name}\"\n",
    "new_db_engine = create_engine(new_db_connection_string)\n",
    "\n",
    "print(new_db_connection_string)\n",
    "\n",
    "Base = declarative_base()\n",
    "session = Session(bind=new_db_engine)\n",
    "\n",
    "# 定义模型类\n",
    "class Employee_SQLAlchemy(Base):\n",
    "    __tablename__ = db_table_name\n",
    "    id = Column(Integer, primary_key=True, autoincrement=True)\n",
    "    employee = Column(String(64), nullable=True)\n",
    "    role = Column(String(64), nullable=True)\n",
    "    domain = Column(String(64), nullable=True)\n",
    "    scope = Column(String(64), nullable=True)\n",
    "\n",
    "# # 删除全部表\n",
    "# Base.metadata.drop_all(bind=new_db_engine)\n",
    "# 创建表\n",
    "Base.metadata.create_all(bind=new_db_engine)\n",
    "\n",
    "# 使用模型添加数据, 需要\n",
    "\n",
    "df = pd.read_csv(local_data_csv)\n",
    "for index, row in df.iterrows():\n",
    "    user_instance = Employee_SQLAlchemy(employee=row[\"employee\"], role=row[\"role\"], domain=row[\"domain\"], scope=row[\"scope\"])\n",
    "    session.add(user_instance)\n",
    "\n",
    "session.commit()"
   ]
  },
  {
   "cell_type": "markdown",
   "id": "516bebb1-a2fd-4a38-854f-fd46128f85ea",
   "metadata": {},
   "source": [
    "#### 2.2 验证数据摄入成功与否"
   ]
  },
  {
   "cell_type": "code",
   "execution_count": null,
   "id": "092e3971-3cad-4a6f-b3dd-b3b60bb7b94c",
   "metadata": {
    "tags": []
   },
   "outputs": [],
   "source": [
    "result = session.query(Employee_SQLAlchemy).first()\n",
    "print(result.employee, result.role, result.domain, result.scope)\n",
    "print(\"\\n\")\n",
    "query = {\"employee\" : \"Yun Li\"}\n",
    "\n",
    "results = session.query(Employee_SQLAlchemy) \\\n",
    "    .filter(Employee_SQLAlchemy.employee.ilike(f'%{query[\"employee\"]}%')).all()\n",
    "for result in results:\n",
    "    print(result.employee, result.role, result.domain, result.scope)\n",
    "print(\"\\n\")\n",
    "\n",
    "results = session.query(Employee_SQLAlchemy) \\\n",
    "    .filter(and_(Employee_SQLAlchemy.domain.ilike(f'%aiml%'), Employee_SQLAlchemy.role == 'ss')).all()\n",
    "for result in results:\n",
    "    print(result.employee, result.role, result.domain, result.scope)"
   ]
  },
  {
   "cell_type": "markdown",
   "id": "9daa33ff-c9c0-4aae-984c-7e4f6dff953d",
   "metadata": {},
   "source": [
    "#### 2.3 notebook中在线测试lambda"
   ]
  },
  {
   "cell_type": "code",
   "execution_count": null,
   "id": "c14ef954-d7bf-496c-8d0a-6d281fd4ba07",
   "metadata": {
    "tags": []
   },
   "outputs": [],
   "source": [
    "import json\n",
    "import os\n",
    "from pydantic import BaseModel, validator, ValidationError\n",
    "from typing import Optional\n",
    "from sqlalchemy import create_engine, text, Column, Integer, String, MetaData, Table, Sequence, or_, and_\n",
    "from sqlalchemy.orm import declarative_base\n",
    "from sqlalchemy.orm import Session\n",
    "\n",
    "new_db_connection_string = f\"mysql+pymysql://{db_username}:{db_password}@{db_host}:{db_port}/{db_name}\"\n",
    "new_db_engine = create_engine(new_db_connection_string)\n",
    "\n",
    "Base = declarative_base()\n",
    "session = Session(bind=new_db_engine)\n",
    "\n",
    "# 定义模型类\n",
    "class Employee_SQLAlchemy(Base):\n",
    "    __tablename__ = db_table_name\n",
    "    id = Column(Integer, primary_key=True, autoincrement=True)\n",
    "    employee = Column(String(64), nullable=True)\n",
    "    role = Column(String(64), nullable=True)\n",
    "    domain = Column(String(64), nullable=True)\n",
    "    scope = Column(String(64), nullable=True)\n",
    "\n",
    "class Employee_Pydantic(BaseModel):\n",
    "    employee: Optional[str] = None\n",
    "    role: Optional[str] = None\n",
    "    domain: Optional[str] = None\n",
    "    scope: Optional[str] = None\n",
    "    \n",
    "    @validator('role')\n",
    "    def role_check(cls, v):\n",
    "        allowed_role = ['SS', 'SSA', 'GTMS', 'PM', 'TPM', 'Manager']\n",
    "        allowed_role_lowercase = [ item.lower() for item in allowed_role]\n",
    "        allowed_role_str = \", \".join(allowed_role)\n",
    "        if v.lower() not in allowed_role_lowercase:\n",
    "            raise ValueError(f\"role should be in [{allowed_role_str}]\")\n",
    "        return v\n",
    "    \n",
    "    @validator('domain')\n",
    "    def domain_check(cls, v):\n",
    "        allowed_domain = ['leadership_team', 'AIML', 'Analytics', 'AppMod', 'Cloud_Intelligence', 'Cloud_Economics', 'Compute',\n",
    " 'Connect_SES_Pinpoint','Database','HPC','Hybrid','IoT','Networking','Edge','Security','By_Services','By_Account_teams','Service Launch']\n",
    "        allowed_domain_lowercase = [ item.lower() for item in allowed_domain]\n",
    "        allowed_domain_str = \", \".join(allowed_domain)\n",
    "        if v.lower() not in allowed_domain_lowercase:\n",
    "            raise ValueError(f\"domain should be in [{allowed_domain_str}]\")\n",
    "        return v\n",
    "    \n",
    "def lambda_handler(event, context):\n",
    "    param = event.get('param')\n",
    "    \n",
    "    employee_obj = None\n",
    "    try:\n",
    "        employee_obj = Employee_Pydantic(**param)\n",
    "    except ValidationError as e:\n",
    "        return {\n",
    "            'statusCode': 500,\n",
    "            'body': e.json()\n",
    "        }\n",
    "    \n",
    "    employee_sqlalchemy = Employee_SQLAlchemy(**employee_obj.dict())\n",
    "    \n",
    "    def format_results(results):\n",
    "        converted_items = []\n",
    "\n",
    "        for idx, item in enumerate(results):\n",
    "            converted_items.append(f\"[{idx}] {item.employee} works as a {item.role} role, take responsibility of '{item.scope}' in domain {item.domain}.\")\n",
    "\n",
    "        return \"\\n\".join(converted_items)\n",
    "    \n",
    "    if employee_sqlalchemy.employee is not None:\n",
    "        print(\"query by employee name\")\n",
    "        results = session.query(Employee_SQLAlchemy).filter(Employee_SQLAlchemy.employee.ilike(f'%{employee_sqlalchemy.employee}%')).all()\n",
    "        if len(results) == 0:\n",
    "            plain_result = \"Can't find that employee - {gtms_obj.employee}.\"\n",
    "        else:\n",
    "            plain_result = format_results(results)\n",
    "    elif employee_sqlalchemy.scope is not None:\n",
    "        print(\"query by scope only\")\n",
    "        results = session.query(Employee_SQLAlchemy).filter(Employee_SQLAlchemy.scope.ilike(f'%{employee_sqlalchemy.scope}%')).all()\n",
    "        if len(results) == 0:\n",
    "            plain_result = \"Can't find relevant information.\"\n",
    "        else:\n",
    "            plain_result = format_results(results)\n",
    "    elif employee_sqlalchemy.domain is not None and employee_sqlalchemy.role is not None:\n",
    "        print(\"query by domain and role\")\n",
    "        results = session.query(Employee_SQLAlchemy).filter(and_(Employee_SQLAlchemy.domain.ilike(f'%{employee_sqlalchemy.domain}%'), Employee_SQLAlchemy.role == employee_sqlalchemy.role)).all()\n",
    "        if len(results) == 0:\n",
    "            plain_result = \"Can't find relevant information.\"\n",
    "        else:\n",
    "            plain_result = format_results(results)\n",
    "    else:\n",
    "        plain_result = \"Can't find relevant information.\"\n",
    "    \n",
    "    return {\n",
    "        'statusCode': 200,\n",
    "        'body': plain_result\n",
    "    }\n",
    "obj = {\"param\":{\"scope\":\"Lex\", \"role\" : \"SSA\"}}\n",
    "print(lambda_handler(obj, None))"
   ]
  },
  {
   "cell_type": "markdown",
   "id": "7b59ca88-6d50-4c4b-8ccc-82e2e61c069e",
   "metadata": {},
   "source": [
    "### 3. 部署Agent Tool"
   ]
  },
  {
   "cell_type": "markdown",
   "id": "5ae17fea-4208-41d4-bf6b-6a4648665e3b",
   "metadata": {},
   "source": [
    "#### 3.1 构建代码zip包"
   ]
  },
  {
   "cell_type": "code",
   "execution_count": null,
   "id": "748c2401-cec0-40e2-b167-350c216df64a",
   "metadata": {
    "tags": []
   },
   "outputs": [],
   "source": [
    "!mkdir lambda_code"
   ]
  },
  {
   "cell_type": "code",
   "execution_count": null,
   "id": "274d99e9-8826-4f67-854d-68760c449ac9",
   "metadata": {
    "tags": []
   },
   "outputs": [],
   "source": [
    "%%writefile lambda_code/lambda_function.py\n",
    "import json\n",
    "import os\n",
    "from pydantic import BaseModel, validator, ValidationError\n",
    "from typing import Optional\n",
    "from sqlalchemy import create_engine, text, Column, Integer, String, MetaData, Table, Sequence, or_, and_\n",
    "from sqlalchemy.orm import declarative_base\n",
    "from sqlalchemy.orm import Session\n",
    "\n",
    "db_username = os.environ.get('db_username')\n",
    "db_password = os.environ.get('db_password')\n",
    "db_host = os.environ.get('db_host')\n",
    "db_port = os.environ.get('db_port')\n",
    "db_name = os.environ.get('db_name')\n",
    "db_table_name = os.environ.get('db_table_name')\n",
    "\n",
    "new_db_connection_string = f\"mysql+pymysql://{db_username}:{db_password}@{db_host}:{db_port}/{db_name}\"\n",
    "new_db_engine = create_engine(new_db_connection_string)\n",
    "\n",
    "Base = declarative_base()\n",
    "session = Session(bind=new_db_engine)\n",
    "\n",
    "# 定义模型类\n",
    "class Employee_SQLAlchemy(Base):\n",
    "    __tablename__ = db_table_name\n",
    "    id = Column(Integer, primary_key=True, autoincrement=True)\n",
    "    employee = Column(String(64), nullable=True)\n",
    "    role = Column(String(64), nullable=True)\n",
    "    domain = Column(String(64), nullable=True)\n",
    "    scope = Column(String(64), nullable=True)\n",
    "\n",
    "class Employee_Pydantic(BaseModel):\n",
    "    employee: Optional[str] = None\n",
    "    role: Optional[str] = None\n",
    "    domain: Optional[str] = None\n",
    "    scope: Optional[str] = None\n",
    "    \n",
    "    @validator('role')\n",
    "    def role_check(cls, v):\n",
    "        allowed_role = ['SS', 'SSA', 'GTMS', 'PM', 'TPM', 'Manager']\n",
    "        allowed_role_lowercase = [ item.lower() for item in allowed_role]\n",
    "        allowed_role_str = \", \".join(allowed_role)\n",
    "        if v.lower() not in allowed_role_lowercase:\n",
    "            raise ValueError(f\"role should be in [{allowed_role_str}]\")\n",
    "        return v\n",
    "    \n",
    "    @validator('domain')\n",
    "    def domain_check(cls, v):\n",
    "        allowed_domain = ['leadership_team', 'AIML', 'Analytics', 'AppMod', 'Cloud_Intelligence', 'Cloud_Economics', 'Compute',\n",
    " 'Connect_SES_Pinpoint','Database','HPC','Hybrid','IoT','Networking','Edge','Security','By_Services','By_Account_teams','Service Launch']\n",
    "        allowed_domain_lowercase = [ item.lower() for item in allowed_domain]\n",
    "        allowed_domain_str = \", \".join(allowed_domain)\n",
    "        if v.lower() not in allowed_domain_lowercase:\n",
    "            raise ValueError(f\"domain should be in [{allowed_domain_str}]\")\n",
    "        return v\n",
    "    \n",
    "def lambda_handler(event, context):\n",
    "    param = event.get('param')\n",
    "    \n",
    "    employee_obj = None\n",
    "    try:\n",
    "        employee_obj = Employee_Pydantic(**param)\n",
    "    except ValidationError as e:\n",
    "        return {\n",
    "            'statusCode': 500,\n",
    "            'body': e.json()\n",
    "        }\n",
    "    \n",
    "    employee_sqlalchemy = Employee_SQLAlchemy(**employee_obj.dict())\n",
    "    \n",
    "    def format_results(results):\n",
    "        converted_items = []\n",
    "        \n",
    "        print(\"call format_results\")\n",
    "        print(\"call format_results {}\".format(len(results)))\n",
    "        for idx, item in enumerate(results):\n",
    "            converted_items.append(f\"[{idx}] {item.employee} works as a {item.role} role, take responsibility of '{item.scope}' in domain {item.domain}.\")\n",
    "        \n",
    "        print(converted_items)\n",
    "        return \"\\n\".join(converted_items)\n",
    "    \n",
    "    if employee_sqlalchemy.employee is not None:\n",
    "        print(\"query by employee name\")\n",
    "        results = session.query(Employee_SQLAlchemy).filter(Employee_SQLAlchemy.employee.ilike(f'%{employee_sqlalchemy.employee}%')).all()\n",
    "        if len(results) == 0:\n",
    "            plain_result = \"Can't find that employee - {gtms_obj.employee}.\"\n",
    "        else:\n",
    "            plain_result = format_results(results)\n",
    "    elif employee_sqlalchemy.scope is not None:\n",
    "        print(\"query by scope only\")\n",
    "        results = session.query(Employee_SQLAlchemy).filter(Employee_SQLAlchemy.scope.ilike(f'%{employee_sqlalchemy.scope}%')).all()\n",
    "        if len(results) == 0:\n",
    "            plain_result = \"Can't find relevant information.\"\n",
    "        else:\n",
    "            plain_result = format_results(results)\n",
    "    elif employee_sqlalchemy.domain is not None and employee_sqlalchemy.role is not None:\n",
    "        print(\"query by domain and role\")\n",
    "        results = session.query(Employee_SQLAlchemy).filter(and_(Employee_SQLAlchemy.domain.ilike(f'%{employee_sqlalchemy.domain}%'), Employee_SQLAlchemy.role == employee_sqlalchemy.role)).all()\n",
    "        if len(results) == 0:\n",
    "            plain_result = \"Can't find relevant information.\"\n",
    "        else:\n",
    "            plain_result = format_results(results)\n",
    "    else:\n",
    "        plain_result = \"Can't find relevant information.\"\n",
    "    \n",
    "    return {\n",
    "        'statusCode': 200,\n",
    "        'body': plain_result\n",
    "    }"
   ]
  },
  {
   "cell_type": "code",
   "execution_count": null,
   "id": "adb86d70-0856-4efc-b007-496363a90172",
   "metadata": {
    "tags": []
   },
   "outputs": [],
   "source": [
    "!sh create_lambda.sh"
   ]
  },
  {
   "cell_type": "markdown",
   "id": "63e6de5c-46a4-4123-a322-e9028bc9eefe",
   "metadata": {},
   "source": [
    "#### 3.2 创建lambda的IAM Role"
   ]
  },
  {
   "cell_type": "code",
   "execution_count": null,
   "id": "d07f4768-ca70-4624-9c8a-673700cfa364",
   "metadata": {
    "tags": []
   },
   "outputs": [],
   "source": [
    "!aws iam create-policy --policy-name MyCustomPolicy --policy-document file://lambda_role_policy.json"
   ]
  },
  {
   "cell_type": "markdown",
   "id": "4aa24b17-96e2-4e57-b07a-1cf0dec13058",
   "metadata": {},
   "source": [
    "+ 创建role"
   ]
  },
  {
   "cell_type": "code",
   "execution_count": null,
   "id": "41194c4b-b50a-4a64-a61e-172033238579",
   "metadata": {
    "tags": []
   },
   "outputs": [],
   "source": [
    "!aws iam create-role \\\n",
    "    --role-name AgentLambdaRole \\\n",
    "    --assume-role-policy-document '{\"Version\": \"2012-10-17\", \"Statement\": [{\"Effect\": \"Allow\", \"Principal\": {\"Service\": \"lambda.amazonaws.com\"},\"Action\": \"sts:AssumeRole\"}]}'"
   ]
  },
  {
   "cell_type": "markdown",
   "id": "2f9e2432-2565-4264-b254-dff5d3339033",
   "metadata": {},
   "source": [
    "- 提取前面输出的policy_arn和role_arn"
   ]
  },
  {
   "cell_type": "code",
   "execution_count": null,
   "id": "043eda69-e60c-464e-bfc0-313526f4e104",
   "metadata": {
    "tags": []
   },
   "outputs": [],
   "source": [
    "policy_arn='arn:aws:iam::687752207838:policy/MyCustomPolicy'\n",
    "role_arn='arn:aws:iam::687752207838:role/AgentLambdaRole'"
   ]
  },
  {
   "cell_type": "code",
   "execution_count": null,
   "id": "f448d1c8-0a35-46aa-9a8a-342560503252",
   "metadata": {
    "tags": []
   },
   "outputs": [],
   "source": [
    "!aws iam attach-role-policy --role-name AgentLambdaRole \\\n",
    "    --policy-arn {policy_arn}"
   ]
  },
  {
   "cell_type": "markdown",
   "id": "66383993-627a-45d8-9975-673c7f9f57fd",
   "metadata": {},
   "source": [
    "#### 3.3 创建lambda function\n",
    "  + 需要把lambda部署在vpc中，因为db也是在vpc中，否则会出现超时"
   ]
  },
  {
   "cell_type": "code",
   "execution_count": null,
   "id": "fa60ee7e-9647-4775-b0e1-027fd12cecbd",
   "metadata": {
    "tags": []
   },
   "outputs": [],
   "source": [
    "!aws lambda create-function --function-name employee_query_tool \\\n",
    "    --zip-file fileb://lambda_code/my_deployment_package.zip --runtime python3.10 \\\n",
    "    --handler lambda_function.lambda_handler --timeout 10 --region {region} \\\n",
    "    --role {role_arn} \\\n",
    "    --vpc-config SubnetIds={\",\".join(subnet_ids)},SecurityGroupIds={vpc_security_group_ids}"
   ]
  },
  {
   "cell_type": "markdown",
   "id": "ee7b97a7-fd64-4e61-81a6-ece0a3198d09",
   "metadata": {
    "tags": []
   },
   "source": [
    "- 为lambda function 添加环境变量，用于连接数据库"
   ]
  },
  {
   "cell_type": "code",
   "execution_count": null,
   "id": "ea409774-5066-40f4-ae45-a1cc16ca89a2",
   "metadata": {
    "tags": []
   },
   "outputs": [],
   "source": [
    "env_list = f\"db_username='{db_username}',db_password='{db_password}',db_host='{db_host}',db_port='{db_port}',db_name='{db_name}',db_table_name='{db_table_name}'\"\n",
    "env_list_var = \"\\\"{\" + env_list+ \"}\\\"\"\n",
    "print(env_list_var)"
   ]
  },
  {
   "cell_type": "code",
   "execution_count": null,
   "id": "a897f6b5-beb4-41d9-ae70-664948b8d95b",
   "metadata": {
    "tags": []
   },
   "outputs": [],
   "source": [
    "!aws lambda update-function-configuration --function-name employee_query_tool \\\n",
    "    --environment Variables={env_list_var}"
   ]
  }
 ],
 "metadata": {
  "kernelspec": {
   "display_name": "conda_python3",
   "language": "python",
   "name": "conda_python3"
  },
  "language_info": {
   "codemirror_mode": {
    "name": "ipython",
    "version": 3
   },
   "file_extension": ".py",
   "mimetype": "text/x-python",
   "name": "python",
   "nbconvert_exporter": "python",
   "pygments_lexer": "ipython3",
   "version": "3.10.13"
  }
 },
 "nbformat": 4,
 "nbformat_minor": 5
}
