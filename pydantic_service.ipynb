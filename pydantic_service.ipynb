{
 "cells": [
  {
   "cell_type": "markdown",
   "id": "0fc501ef-e24a-4568-b85b-a7730e51b222",
   "metadata": {},
   "source": [
    "# 如何构建一个基于Lambda的Query Agent Tool"
   ]
  },
  {
   "cell_type": "markdown",
   "id": "87d81477-21eb-494b-9be2-26f4a4788f8e",
   "metadata": {
    "tags": []
   },
   "source": [
    "!pip install awscli\n",
    "!pip install sqlalchemy pymysql pydantic pandas"
   ]
  },
  {
   "cell_type": "markdown",
   "id": "0e5e978f-d6e0-4412-9b28-3e6b104bd948",
   "metadata": {},
   "source": [
    "### 0. 测试pydantic框架带来的接口报错机制"
   ]
  },
  {
   "cell_type": "code",
   "execution_count": null,
   "id": "a743aa64-24dd-4d7f-9c8b-b05806a801a7",
   "metadata": {
    "tags": []
   },
   "outputs": [],
   "source": [
    "from pydantic import BaseModel, validator, ValidationError\n",
    "from typing import Optional\n",
    "\n",
    "class GTMS(BaseModel):\n",
    "    service: Optional[str] = None\n",
    "    employee: Optional[str] = None\n",
    "\n",
    "    @validator('service')\n",
    "    def service_check(cls, v):\n",
    "        if v not in ['sagemaker', 'emr', 'msk', 'personalize']:\n",
    "            raise ValueError(\"service should be in ['sagemaker', 'emr', 'msk', 'personalize']\")\n",
    "        return v\n",
    "\n",
    "obj = {\n",
    "    \"service\" : \"sagemakers\"\n",
    "}\n",
    "\n",
    "try:\n",
    "    gtms_obj = GTMS(**obj)\n",
    "except ValidationError as e:\n",
    "    print(e.json())\n",
    "\n",
    "gtms_obj = GTMS(**obj)"
   ]
  },
  {
   "cell_type": "markdown",
   "id": "406c7cdc-47df-4790-a5c8-5bae46b4cb9a",
   "metadata": {},
   "source": [
    "### 1.创建一个RDS Database\n",
    "\n",
    "- --vpc-security-group-ids 需要指定为chatbot部署以及本notebook所在的vpc为同一个\n",
    "- --availability-zone 与notebook在同一个AZ\n",
    "- --db-subnet-group-name 可以通过下面awscli进行创建"
   ]
  },
  {
   "cell_type": "markdown",
   "id": "b1fe2428-98ae-4270-95d0-88ae68eaaa69",
   "metadata": {},
   "source": [
    "#### 1.1 设定变量"
   ]
  },
  {
   "cell_type": "code",
   "execution_count": null,
   "id": "b614a8e5-1969-4b00-9041-41ea3b8147e6",
   "metadata": {
    "tags": []
   },
   "outputs": [],
   "source": [
    "db_subnet_group_name = \"ag****\"\n",
    "db_username = \"yb****t\"\n",
    "db_password = \"12****56\"\n",
    "db_az = 'us-****-2a'\n",
    "db_instance_name = \"agent-****-tance\"\n",
    "\n",
    "region = 'us-****-2'\n",
    "vpc = \"vpc-03e6******cbaf\"\n",
    "subnet_ids = [\"subnet-1\", \"subnet-2\", \"subnet-3\", \"subnet-4\"]\n",
    "vpc_security_group_ids = \"sg-0*******497\""
   ]
  },
  {
   "cell_type": "markdown",
   "id": "588c1e0a-07b7-4219-b56e-a1883c40f05e",
   "metadata": {},
   "source": [
    "#### 1.2 创建DB instance"
   ]
  },
  {
   "cell_type": "code",
   "execution_count": null,
   "id": "b2c74ba8-064e-4a70-b721-e791df9ed292",
   "metadata": {},
   "outputs": [],
   "source": [
    "!aws rds create-db-subnet-group \\\n",
    "    --db-subnet-group-name {db_subnet_group_name} \\\n",
    "    --db-subnet-group-description \"DB Subnet Group For Agent\" \\\n",
    "    --subnet-ids {\" \".join(subnet_ids)}"
   ]
  },
  {
   "cell_type": "code",
   "execution_count": null,
   "id": "c43203b9-cd48-46fd-ba29-9f292cf033d4",
   "metadata": {
    "tags": []
   },
   "outputs": [],
   "source": [
    "!aws rds create-db-instance \\\n",
    "    --db-instance-identifier {db_instance_name} \\\n",
    "    --allocated-storage 50 \\\n",
    "    --db-instance-class db.r6g.large \\\n",
    "    --engine mysql \\\n",
    "    --master-username {db_username} \\\n",
    "    --master-user-password {db_password} \\\n",
    "    --vpc-security-group-ids {vpc_security_group_ids} \\\n",
    "    --availability-zone {db_az} \\\n",
    "    --db-subnet-group-name {db_subnet_group_name}"
   ]
  },
  {
   "cell_type": "markdown",
   "id": "33cc0be2-bbb1-44b9-9da1-7a2692226a39",
   "metadata": {},
   "source": [
    "### 2. 创建表并注入数据"
   ]
  },
  {
   "cell_type": "markdown",
   "id": "9359298a-f910-4794-b105-a757063035e1",
   "metadata": {},
   "source": [
    "#### 2.1 连接数据库\n",
    "- 根据创建数据库的返回，指定db_host，db_port\n",
    "- 自行指定db_name，db_table_name"
   ]
  },
  {
   "cell_type": "code",
   "execution_count": null,
   "id": "ce046a1d-1d1f-4819-bae1-115b98a1f689",
   "metadata": {
    "tags": []
   },
   "outputs": [],
   "source": [
    "db_host = \"my-rds-instance2.********.us-****-2.rds.amazonaws.com\"\n",
    "db_port = \"****\"\n",
    "db_name = \"sim***_****_db\"\n",
    "db_table_name = 'gtms_employee'"
   ]
  },
  {
   "cell_type": "code",
   "execution_count": null,
   "id": "2c400163-e13b-4da7-b054-ce1f176ebbcd",
   "metadata": {
    "tags": []
   },
   "outputs": [],
   "source": [
    "from sqlalchemy import create_engine, text, Column, Integer, String, MetaData, Table, Sequence, or_\n",
    "from sqlalchemy.ext.declarative import declarative_base\n",
    "from sqlalchemy.orm import Session\n",
    "import pandas as pd\n",
    "\n",
    "connection_string = f\"mysql+pymysql://{db_username}:{db_password}@{db_host}:{db_port}\"\n",
    "engine = create_engine(connection_string)\n",
    "\n",
    "with engine.connect() as connection:\n",
    "    result = connection.execute(text(f\"CREATE DATABASE IF NOT EXISTS {db_name}\"))"
   ]
  },
  {
   "cell_type": "code",
   "execution_count": null,
   "id": "13ce58cb-aaaa-4337-a22e-43a2d3320c4b",
   "metadata": {
    "tags": []
   },
   "outputs": [],
   "source": [
    "new_db_connection_string = f\"mysql+pymysql://{db_username}:{db_password}@{db_host}:{db_port}/{db_name}\"\n",
    "new_db_engine = create_engine(new_db_connection_string)\n",
    "\n",
    "print(new_db_connection_string)\n",
    "\n",
    "Base = declarative_base()\n",
    "session = Session(bind=new_db_engine)\n",
    "\n",
    "# 定义模型类\n",
    "class GTMS_SQLAlchemy(Base):\n",
    "    __tablename__ = db_table_name\n",
    "    id = Column(Integer, primary_key=True, autoincrement=True)\n",
    "    service = Column(String(64), nullable=True)\n",
    "    employee = Column(String(64), nullable=True)\n",
    "\n",
    "# 创建表\n",
    "Base.metadata.create_all(bind=new_db_engine)\n",
    "\n",
    "# 使用模型添加数据, 需要\n",
    "df = pd.read_csv(\"data.csv\")\n",
    "for index, row in df.iterrows():\n",
    "    user_instance = GTMS_SQLAlchemy(service=row[\"Service\"], employee=row[\"Employee\"])\n",
    "    session.add(user_instance)\n",
    "\n",
    "session.commit()"
   ]
  },
  {
   "cell_type": "markdown",
   "id": "516bebb1-a2fd-4a38-854f-fd46128f85ea",
   "metadata": {},
   "source": [
    "#### 2.2 验证数据摄入成功与否"
   ]
  },
  {
   "cell_type": "code",
   "execution_count": null,
   "id": "092e3971-3cad-4a6f-b3dd-b3b60bb7b94c",
   "metadata": {
    "tags": []
   },
   "outputs": [],
   "source": [
    "result = session.query(GTMS_SQLAlchemy).first()\n",
    "print(result.service, result.employee)"
   ]
  },
  {
   "cell_type": "markdown",
   "id": "c898790e-2ecf-405f-b2fa-34a82ea0e17e",
   "metadata": {},
   "source": [
    "### 3.构建查询的Lambda"
   ]
  },
  {
   "cell_type": "markdown",
   "id": "5ae17fea-4208-41d4-bf6b-6a4648665e3b",
   "metadata": {},
   "source": [
    "#### 3.1 构建代码zip包\n",
    "- 需要注意把lambda_function.py中的一些变量手动替换上去\n",
    "  + db_username\n",
    "  + db_password\n",
    "  + db_host\n",
    "  + db_port\n",
    "  + db_name"
   ]
  },
  {
   "cell_type": "code",
   "execution_count": null,
   "id": "748c2401-cec0-40e2-b167-350c216df64a",
   "metadata": {
    "tags": []
   },
   "outputs": [],
   "source": [
    "!mkdir lambda_code"
   ]
  },
  {
   "cell_type": "code",
   "execution_count": null,
   "id": "274d99e9-8826-4f67-854d-68760c449ac9",
   "metadata": {
    "tags": []
   },
   "outputs": [],
   "source": [
    "%%writefile lambda_code/lambda_function.py\n",
    "import json\n",
    "from pydantic import BaseModel, validator, ValidationError\n",
    "from typing import Optional\n",
    "from sqlalchemy import create_engine, text, Column, Integer, String, MetaData, Table, Sequence, or_\n",
    "from sqlalchemy.ext.declarative import declarative_base\n",
    "from sqlalchemy.orm import Session\n",
    "\n",
    "# db_username = {db_username}\n",
    "# db_password = {db_password}\n",
    "# db_host = {db_host}\n",
    "# db_port = {db_port}\n",
    "# db_name = {db_name}\n",
    "# db_table_name = {db_table_name}\n",
    "\n",
    "new_db_connection_string = f\"mysql+pymysql://{db_username}:{db_password}@{db_host}:{db_port}/{db_name}\"\n",
    "new_db_engine = create_engine(new_db_connection_string)\n",
    "\n",
    "Base = declarative_base()\n",
    "session = Session(bind=new_db_engine)\n",
    "\n",
    "# 定义模型类\n",
    "class GTMS_SQLAlchemy(Base):\n",
    "    __tablename__ = db_table_name\n",
    "    id = Column(Integer, primary_key=True, autoincrement=True)\n",
    "    service = Column(String(64), nullable=True)\n",
    "    employee = Column(String(64), nullable=True)\n",
    "\n",
    "class GTMS(BaseModel):\n",
    "    service: Optional[str] = None\n",
    "    employee: Optional[str] = None\n",
    "    \n",
    "    @validator('service')\n",
    "    def service_check(cls, v):\n",
    "        if v not in ['sagemaker', 'emr', 'msk', 'personalize']:\n",
    "            raise ValueError(\"service should be in ['sagemaker', 'emr', 'msk', 'personalize']\")\n",
    "        return v\n",
    "\n",
    "def lambda_handler(event, context):\n",
    "    param = event.get('param')\n",
    "    \n",
    "    gtms_obj = None\n",
    "    try:\n",
    "        gtms_obj = GTMS(**param)\n",
    "    except ValidationError as e:\n",
    "        return {\n",
    "            'statusCode': 500,\n",
    "            'body': e.json()\n",
    "        }\n",
    "    \n",
    "    gtms_sqlalchemy = GTMS_SQLAlchemy(**gtms_obj.dict())\n",
    "    \n",
    "    results = session.query(GTMS_SQLAlchemy).filter(or_(GTMS_SQLAlchemy.service == gtms_sqlalchemy.service, GTMS_SQLAlchemy.employee == gtms_sqlalchemy.employee)).all()\n",
    "    \n",
    "    plain_result = \"\\n\".join([ f\"{idx}. {item.employee}负责{item.service}.\" for idx, item in enumerate(results)])\n",
    "    \n",
    "    return {\n",
    "        'statusCode': 200,\n",
    "        'body': plain_result\n",
    "    }"
   ]
  },
  {
   "cell_type": "code",
   "execution_count": null,
   "id": "adb86d70-0856-4efc-b007-496363a90172",
   "metadata": {
    "tags": []
   },
   "outputs": [],
   "source": [
    "!sh create_lambda.sh"
   ]
  },
  {
   "cell_type": "markdown",
   "id": "63e6de5c-46a4-4123-a322-e9028bc9eefe",
   "metadata": {},
   "source": [
    "#### 3.2 创建部署lambda"
   ]
  },
  {
   "cell_type": "markdown",
   "id": "4aa24b17-96e2-4e57-b07a-1cf0dec13058",
   "metadata": {},
   "source": [
    "+ 创建role"
   ]
  },
  {
   "cell_type": "code",
   "execution_count": null,
   "id": "41194c4b-b50a-4a64-a61e-172033238579",
   "metadata": {
    "tags": []
   },
   "outputs": [],
   "source": [
    "!aws iam create-role \\\n",
    "    --role-name AgentLambdaRole \\\n",
    "    --assume-role-policy-document '{\"Version\": \"2012-10-17\", \"Statement\": [{\"Effect\": \"Allow\", \"Principal\": {\"Service\": \"lambda.amazonaws.com\"},\"Action\": \"sts:AssumeRole\"}]}'"
   ]
  },
  {
   "cell_type": "code",
   "execution_count": null,
   "id": "d07f4768-ca70-4624-9c8a-673700cfa364",
   "metadata": {
    "tags": []
   },
   "outputs": [],
   "source": [
    "!aws iam create-policy --policy-name MyCustomPolicy --policy-document file://lambda_role_policy.json"
   ]
  },
  {
   "cell_type": "markdown",
   "id": "2f9e2432-2565-4264-b254-dff5d3339033",
   "metadata": {},
   "source": [
    "- 提取前一个cell的输出，替换policy_arn"
   ]
  },
  {
   "cell_type": "code",
   "execution_count": null,
   "id": "f448d1c8-0a35-46aa-9a8a-342560503252",
   "metadata": {
    "tags": []
   },
   "outputs": [],
   "source": [
    "!aws iam attach-role-policy --role-name AgentLambdaRole \\\n",
    "    --policy-arn {policy_arn}"
   ]
  },
  {
   "cell_type": "markdown",
   "id": "5665f34e-bcbc-435c-aaef-66350e73e7b8",
   "metadata": {},
   "source": [
    "- 需要把lambda部署在vpc中，因为db也是在vpc中，否则会出现超时\n",
    "- 需要从前两步产生的role传入参数中"
   ]
  },
  {
   "cell_type": "code",
   "execution_count": null,
   "id": "fa60ee7e-9647-4775-b0e1-027fd12cecbd",
   "metadata": {
    "tags": []
   },
   "outputs": [],
   "source": [
    "!aws lambda create-function --function-name query_gtms4 \\\n",
    "    --zip-file fileb://lambda_code/my_deployment_package.zip --runtime python3.10 \\\n",
    "    --handler lambda_function.lambda_handler --timeout 10 --region {region} \\\n",
    "    --role arn:aws:iam::106839800180:role/AgentLambdaRole \\\n",
    "    --vpc-config SubnetIds={\",\".join(subnet_ids)},SecurityGroupIds={vpc_security_group_ids}"
   ]
  }
 ],
 "metadata": {
  "kernelspec": {
   "display_name": "conda_python3",
   "language": "python",
   "name": "conda_python3"
  },
  "language_info": {
   "codemirror_mode": {
    "name": "ipython",
    "version": 3
   },
   "file_extension": ".py",
   "mimetype": "text/x-python",
   "name": "python",
   "nbconvert_exporter": "python",
   "pygments_lexer": "ipython3",
   "version": "3.10.13"
  }
 },
 "nbformat": 4,
 "nbformat_minor": 5
}
