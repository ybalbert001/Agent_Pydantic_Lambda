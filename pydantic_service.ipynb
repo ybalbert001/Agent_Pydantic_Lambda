{
 "cells": [
  {
   "cell_type": "markdown",
   "id": "0fc501ef-e24a-4568-b85b-a7730e51b222",
   "metadata": {},
   "source": [
    "# 如何构建一个基于Lambda的Query Agent Tool"
   ]
  },
  {
   "cell_type": "code",
   "execution_count": null,
   "id": "99dc6c37-f721-445a-b78d-8762aeb24c0c",
   "metadata": {
    "tags": []
   },
   "outputs": [],
   "source": [
    "# !pip install pydantic\n",
    "# !pip install --force-reinstall 'sqlalchemy<2.0.0'\n",
    "!pip install awscli\n",
    "!pip install sqlalchemy pymysql pydantic pandas"
   ]
  },
  {
   "cell_type": "markdown",
   "id": "406c7cdc-47df-4790-a5c8-5bae46b4cb9a",
   "metadata": {},
   "source": [
    "### 1.创建一个RDS Database\n",
    "\n",
    "- --vpc-security-group-ids 需要指定为chatbot部署以及本notebook所在的vpc为同一个\n",
    "- --availability-zone 与notebook在同一个AZ\n",
    "- --db-subnet-group-name 可以通过下面awscli进行创建"
   ]
  },
  {
   "cell_type": "code",
   "execution_count": null,
   "id": "b2c74ba8-064e-4a70-b721-e791df9ed292",
   "metadata": {},
   "outputs": [],
   "source": [
    "!aws rds create-db-subnet-group \\\n",
    "    --db-subnet-group-name {your-db-subnet-group-name} \\\n",
    "    --db-subnet-group-description \"Your DB Subnet Group Description\" \\\n",
    "    --subnet-ids {subnet-1} {subnet-2}"
   ]
  },
  {
   "cell_type": "code",
   "execution_count": null,
   "id": "c43203b9-cd48-46fd-ba29-9f292cf033d4",
   "metadata": {
    "tags": []
   },
   "outputs": [],
   "source": [
    "!aws rds create-db-instance \\\n",
    "    --db-instance-identifier my-rds-instance2 \\\n",
    "    --allocated-storage 50 \\\n",
    "    --db-instance-class db.r6g.large \\\n",
    "    --engine mysql \\\n",
    "    --master-username ybalbert \\\n",
    "    --master-user-password 12abcd3456 \\\n",
    "    --vpc-security-group-ids sg-0ae78936a18523497 \\\n",
    "    --availability-zone us-west-2a \\\n",
    "    --db-subnet-group-name testpydantic"
   ]
  },
  {
   "cell_type": "markdown",
   "id": "33cc0be2-bbb1-44b9-9da1-7a2692226a39",
   "metadata": {},
   "source": [
    "### 2. 创建表并注入数据"
   ]
  },
  {
   "cell_type": "markdown",
   "id": "9359298a-f910-4794-b105-a757063035e1",
   "metadata": {},
   "source": [
    "#### 2.1 连接数据库"
   ]
  },
  {
   "cell_type": "code",
   "execution_count": 20,
   "id": "2c400163-e13b-4da7-b054-ce1f176ebbcd",
   "metadata": {
    "tags": []
   },
   "outputs": [],
   "source": [
    "from sqlalchemy import create_engine, text, Column, Integer, String, MetaData, Table, Sequence, or_\n",
    "from sqlalchemy.ext.declarative import declarative_base\n",
    "from sqlalchemy.orm import Session\n",
    "import pandas as pd\n",
    "\n",
    "db_username = \"ybalbert\"\n",
    "db_password = \"12****3456\"\n",
    "db_host = \"my-rds-instance2.cw6yhl7xqafj.us-west-2.rds.amazonaws.com\"\n",
    "db_port = \"3306\"\n",
    "db_name = \"simple_info_db\"\n",
    "\n",
    "connection_string = f\"mysql+pymysql://{db_username}:{db_password}@{db_host}:{db_port}\"\n",
    "engine = create_engine(connection_string)\n",
    "\n",
    "with engine.connect() as connection:\n",
    "    result = connection.execute(text(f\"CREATE DATABASE IF NOT EXISTS {db_name}\"))"
   ]
  },
  {
   "cell_type": "code",
   "execution_count": null,
   "id": "13ce58cb-aaaa-4337-a22e-43a2d3320c4b",
   "metadata": {
    "tags": []
   },
   "outputs": [],
   "source": [
    "new_db_connection_string = f\"mysql+pymysql://{db_username}:{db_password}@{db_host}:{db_port}/{db_name}\"\n",
    "new_db_engine = create_engine(new_db_connection_string)\n",
    "\n",
    "print(new_db_connection_string)\n",
    "\n",
    "Base = declarative_base()\n",
    "session = Session(bind=new_db_engine)\n",
    "\n",
    "# 定义模型类\n",
    "class GTMS_SQLAlchemy(Base):\n",
    "    __tablename__ = 'gtms_employee'\n",
    "    id = Column(Integer, primary_key=True, autoincrement=True)\n",
    "    service = Column(String(64), nullable=True)\n",
    "    employee = Column(String(64), nullable=True)\n",
    "\n",
    "# 创建表\n",
    "Base.metadata.create_all(bind=new_db_engine)\n",
    "\n",
    "# 使用模型添加数据\n",
    "df = pd.read_csv(\"gtms.csv\")\n",
    "for index, row in df.iterrows():\n",
    "    user_instance = GTMS_SQLAlchemy(service=row[\"Service\"], employee=row[\"Employee\"])\n",
    "    session.add(user_instance)\n",
    "\n",
    "session.commit()"
   ]
  },
  {
   "cell_type": "markdown",
   "id": "516bebb1-a2fd-4a38-854f-fd46128f85ea",
   "metadata": {},
   "source": [
    "#### 2.2 验证数据摄入成功与否"
   ]
  },
  {
   "cell_type": "code",
   "execution_count": 16,
   "id": "092e3971-3cad-4a6f-b3dd-b3b60bb7b94c",
   "metadata": {
    "tags": []
   },
   "outputs": [
    {
     "name": "stdout",
     "output_type": "stream",
     "text": [
      "SageMaker Amanda\n"
     ]
    }
   ],
   "source": [
    "result = session.query(GTMS_SQLAlchemy).first()\n",
    "print(result.service, result.employee)"
   ]
  },
  {
   "cell_type": "markdown",
   "id": "c898790e-2ecf-405f-b2fa-34a82ea0e17e",
   "metadata": {},
   "source": [
    "### 3.构建查询的Lambda"
   ]
  },
  {
   "cell_type": "markdown",
   "id": "5ae17fea-4208-41d4-bf6b-6a4648665e3b",
   "metadata": {},
   "source": [
    "#### 3.1 构建代码zip包"
   ]
  },
  {
   "cell_type": "code",
   "execution_count": 54,
   "id": "748c2401-cec0-40e2-b167-350c216df64a",
   "metadata": {
    "tags": []
   },
   "outputs": [],
   "source": [
    "!mkdir lambda_code"
   ]
  },
  {
   "cell_type": "code",
   "execution_count": 57,
   "id": "274d99e9-8826-4f67-854d-68760c449ac9",
   "metadata": {
    "tags": []
   },
   "outputs": [
    {
     "name": "stdout",
     "output_type": "stream",
     "text": [
      "Overwriting lambda_code/lambda_function.py\n"
     ]
    }
   ],
   "source": [
    "%%writefile lambda_code/lambda_function.py\n",
    "import json\n",
    "from pydantic import BaseModel, validator, ValidationError\n",
    "from typing import Optional\n",
    "from sqlalchemy import create_engine, text, Column, Integer, String, MetaData, Table, Sequence, or_\n",
    "from sqlalchemy.ext.declarative import declarative_base\n",
    "from sqlalchemy.orm import Session\n",
    "\n",
    "db_username = \"ybalbert\"\n",
    "db_password = \"12abcd3456\"\n",
    "db_host = \"my-rds-instance2.cw6yhl7xqafj.us-west-2.rds.amazonaws.com\"\n",
    "db_port = \"3306\"\n",
    "db_name = \"simple_info_db\"\n",
    "new_db_connection_string = f\"mysql+pymysql://{db_username}:{db_password}@{db_host}:{db_port}/{db_name}\"\n",
    "new_db_engine = create_engine(new_db_connection_string)\n",
    "\n",
    "Base = declarative_base()\n",
    "session = Session(bind=new_db_engine)\n",
    "\n",
    "# 定义模型类\n",
    "class GTMS_SQLAlchemy(Base):\n",
    "    __tablename__ = 'gtms_employee'\n",
    "    id = Column(Integer, primary_key=True, autoincrement=True)\n",
    "    service = Column(String(64), nullable=True)\n",
    "    employee = Column(String(64), nullable=True)\n",
    "\n",
    "class GTMS(BaseModel):\n",
    "    service: Optional[str] = None\n",
    "    employee: Optional[str] = None\n",
    "    \n",
    "    @validator('service')\n",
    "    def service_check(cls, v):\n",
    "        if v not in ['sagemaker', 'emr', 'msk', 'personalize']:\n",
    "            raise ValueError(\"service should be in ['sagemaker', 'emr', 'msk', 'personalize']\")\n",
    "        return v\n",
    "\n",
    "def lambda_handler(event, context):\n",
    "    param = event.get('param')\n",
    "    \n",
    "    gtms_obj = None\n",
    "    try:\n",
    "        gtms_obj = GTMS(**param)\n",
    "    except ValidationError as e:\n",
    "        return {\n",
    "            'statusCode': 500,\n",
    "            'body': e.json()\n",
    "        }\n",
    "    \n",
    "    gtms_sqlalchemy = GTMS_SQLAlchemy(**gtms_obj.dict())\n",
    "    \n",
    "    results = session.query(GTMS_SQLAlchemy).filter(or_(GTMS_SQLAlchemy.service == gtms_sqlalchemy.service, GTMS_SQLAlchemy.employee == gtms_sqlalchemy.employee)).all()\n",
    "    \n",
    "    plain_result = \"\\n\".join([ f\"{idx}. {item.employee}负责{item.service}.\" for idx, item in enumerate(results)])\n",
    "    \n",
    "    return {\n",
    "        'statusCode': 200,\n",
    "        'body': plain_result\n",
    "    }"
   ]
  },
  {
   "cell_type": "code",
   "execution_count": null,
   "id": "adb86d70-0856-4efc-b007-496363a90172",
   "metadata": {
    "tags": []
   },
   "outputs": [],
   "source": [
    "!sh create_lambda.sh"
   ]
  },
  {
   "cell_type": "markdown",
   "id": "63e6de5c-46a4-4123-a322-e9028bc9eefe",
   "metadata": {},
   "source": [
    "#### 3.2 创建部署lambda"
   ]
  },
  {
   "cell_type": "markdown",
   "id": "4aa24b17-96e2-4e57-b07a-1cf0dec13058",
   "metadata": {},
   "source": [
    "+ 创建role"
   ]
  },
  {
   "cell_type": "code",
   "execution_count": null,
   "id": "41194c4b-b50a-4a64-a61e-172033238579",
   "metadata": {
    "tags": []
   },
   "outputs": [],
   "source": [
    "!aws iam create-role \\\n",
    "    --role-name AgentLambdaRole \\\n",
    "    --assume-role-policy-document '{\"Version\": \"2012-10-17\", \"Statement\": [{\"Effect\": \"Allow\", \"Principal\": {\"Service\": \"lambda.amazonaws.com\"},\"Action\": \"sts:AssumeRole\"}]}'"
   ]
  },
  {
   "cell_type": "code",
   "execution_count": null,
   "id": "d07f4768-ca70-4624-9c8a-673700cfa364",
   "metadata": {
    "tags": []
   },
   "outputs": [],
   "source": [
    "!aws iam create-policy --policy-name MyCustomPolicy --policy-document file://lambda_role_policy.json"
   ]
  },
  {
   "cell_type": "code",
   "execution_count": 70,
   "id": "f448d1c8-0a35-46aa-9a8a-342560503252",
   "metadata": {
    "tags": []
   },
   "outputs": [],
   "source": [
    "!aws iam attach-role-policy --role-name AgentLambdaRole \\\n",
    "    --policy-arn arn:aws:iam::106839800180:policy/MyCustomPolicy"
   ]
  },
  {
   "cell_type": "code",
   "execution_count": null,
   "id": "e1e33f80-e9b7-4225-af52-b8374c8184bf",
   "metadata": {},
   "outputs": [],
   "source": [
    "!aws lambda create-function \\\n",
    "    --function-name YourFunctionName \\\n",
    "    --runtime python3.10 \\\n",
    "    --role arn:aws:iam::YourAccountID:role/YourExecutionRole \\\n",
    "    --handler lambda_function.lambda_handler \\\n",
    "    --zip-file fileb://lambda_code/my_deployment_package.zip \\\n",
    "    --vpc-config SubnetIds=[子网ID列表],SecurityGroupIds=[安全组ID列表]\n",
    "    --region your-region"
   ]
  },
  {
   "cell_type": "markdown",
   "id": "5665f34e-bcbc-435c-aaef-66350e73e7b8",
   "metadata": {},
   "source": [
    "- 需要把lambda部署在vpc中，因为db也是在vpc中，否则会出现超时"
   ]
  },
  {
   "cell_type": "code",
   "execution_count": 71,
   "id": "fa60ee7e-9647-4775-b0e1-027fd12cecbd",
   "metadata": {
    "tags": []
   },
   "outputs": [
    {
     "name": "stdout",
     "output_type": "stream",
     "text": [
      "{\n",
      "    \"FunctionName\": \"query_gtms\",\n",
      "    \"FunctionArn\": \"arn:aws:lambda:us-west-2:106839800180:function:query_gtms\",\n",
      "    \"Runtime\": \"python3.10\",\n",
      "    \"Role\": \"arn:aws:iam::106839800180:role/AgentLambdaRole\",\n",
      "    \"Handler\": \"lambda_function.lambda_handler\",\n",
      "    \"CodeSize\": 51072988,\n",
      "    \"Description\": \"\",\n",
      "    \"Timeout\": 10,\n",
      "    \"MemorySize\": 128,\n",
      "    \"LastModified\": \"2023-12-05T11:42:05.681+0000\",\n",
      "    \"CodeSha256\": \"R1FXoUQpjjg9zCkrWtxmAoBl3PBs4G78MiPmcNS4KY0=\",\n",
      "    \"Version\": \"$LATEST\",\n",
      "    \"TracingConfig\": {\n",
      "        \"Mode\": \"PassThrough\"\n",
      "    },\n",
      "    \"RevisionId\": \"c771671f-874e-450a-aaee-d0593c67f97c\",\n",
      "    \"State\": \"Pending\",\n",
      "    \"StateReason\": \"The function is being created.\",\n",
      "    \"StateReasonCode\": \"Creating\",\n",
      "    \"PackageType\": \"Zip\",\n",
      "    \"Architectures\": [\n",
      "        \"x86_64\"\n",
      "    ],\n",
      "    \"EphemeralStorage\": {\n",
      "        \"Size\": 512\n",
      "    },\n",
      "    \"SnapStart\": {\n",
      "        \"ApplyOn\": \"None\",\n",
      "        \"OptimizationStatus\": \"Off\"\n",
      "    },\n",
      "    \"RuntimeVersionConfig\": {\n",
      "        \"RuntimeVersionArn\": \"arn:aws:lambda:us-west-2::runtime:23d79cb4d3a1b4aefc63cb7eacb5e2caa1b6198dd8c8e46e932fd61020eca14e\"\n",
      "    }\n",
      "}\n"
     ]
    }
   ],
   "source": [
    "!aws lambda create-function --function-name query_gtms \\\n",
    "    --zip-file fileb://lambda_code/my_deployment_package.zip --runtime python3.10 \\\n",
    "    --handler lambda_function.lambda_handler --timeout 10 --region us-west-2 \\\n",
    "    --role arn:aws:iam::106839800180:role/AgentLambdaRole"
   ]
  },
  {
   "cell_type": "markdown",
   "id": "7a9c4f53-b801-4be7-8b36-e4fd17167a80",
   "metadata": {},
   "source": [
    "### 4. 测试pydantic框架带来的接口报错机制"
   ]
  },
  {
   "cell_type": "code",
   "execution_count": 73,
   "id": "07de6cb7-7760-4785-891f-5e01bafab15b",
   "metadata": {
    "tags": []
   },
   "outputs": [
    {
     "name": "stdout",
     "output_type": "stream",
     "text": [
      "[\n",
      "  {\n",
      "    \"loc\": [\n",
      "      \"service\"\n",
      "    ],\n",
      "    \"msg\": \"service should be in ['sagemaker', 'emr', 'msk', 'personalize']\",\n",
      "    \"type\": \"value_error\"\n",
      "  }\n",
      "]\n"
     ]
    },
    {
     "ename": "ValidationError",
     "evalue": "1 validation error for GTMS\nservice\n  service should be in ['sagemaker', 'emr', 'msk', 'personalize'] (type=value_error)",
     "output_type": "error",
     "traceback": [
      "\u001b[0;31m---------------------------------------------------------------------------\u001b[0m",
      "\u001b[0;31mValidationError\u001b[0m                           Traceback (most recent call last)",
      "Cell \u001b[0;32mIn[73], line 23\u001b[0m\n\u001b[1;32m     20\u001b[0m \u001b[38;5;28;01mexcept\u001b[39;00m ValidationError \u001b[38;5;28;01mas\u001b[39;00m e:\n\u001b[1;32m     21\u001b[0m     \u001b[38;5;28mprint\u001b[39m(e\u001b[38;5;241m.\u001b[39mjson())\n\u001b[0;32m---> 23\u001b[0m gtms_obj \u001b[38;5;241m=\u001b[39m \u001b[43mGTMS\u001b[49m\u001b[43m(\u001b[49m\u001b[38;5;241;43m*\u001b[39;49m\u001b[38;5;241;43m*\u001b[39;49m\u001b[43mobj\u001b[49m\u001b[43m)\u001b[49m\n",
      "File \u001b[0;32m~/anaconda3/envs/python3/lib/python3.10/site-packages/pydantic/main.py:341\u001b[0m, in \u001b[0;36mpydantic.main.BaseModel.__init__\u001b[0;34m()\u001b[0m\n",
      "\u001b[0;31mValidationError\u001b[0m: 1 validation error for GTMS\nservice\n  service should be in ['sagemaker', 'emr', 'msk', 'personalize'] (type=value_error)"
     ]
    }
   ],
   "source": [
    "from pydantic import BaseModel, validator, ValidationError\n",
    "from typing import Optional\n",
    "\n",
    "class GTMS(BaseModel):\n",
    "    service: Optional[str] = None\n",
    "    employee: Optional[str] = None\n",
    "\n",
    "    @validator('service')\n",
    "    def service_check(cls, v):\n",
    "        if v not in ['sagemaker', 'emr', 'msk', 'personalize']:\n",
    "            raise ValueError(\"service should be in ['sagemaker', 'emr', 'msk', 'personalize']\")\n",
    "        return v\n",
    "\n",
    "obj = {\n",
    "    \"service\" : \"sagemakers\"\n",
    "}\n",
    "\n",
    "try:\n",
    "    gtms_obj = GTMS(**obj)\n",
    "except ValidationError as e:\n",
    "    print(e.json())\n",
    "\n",
    "gtms_obj = GTMS(**obj)"
   ]
  }
 ],
 "metadata": {
  "kernelspec": {
   "display_name": "conda_python3",
   "language": "python",
   "name": "conda_python3"
  },
  "language_info": {
   "codemirror_mode": {
    "name": "ipython",
    "version": 3
   },
   "file_extension": ".py",
   "mimetype": "text/x-python",
   "name": "python",
   "nbconvert_exporter": "python",
   "pygments_lexer": "ipython3",
   "version": "3.10.13"
  }
 },
 "nbformat": 4,
 "nbformat_minor": 5
}
